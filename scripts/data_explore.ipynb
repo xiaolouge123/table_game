{
 "cells": [
  {
   "cell_type": "code",
   "execution_count": 1,
   "metadata": {},
   "outputs": [],
   "source": [
    "import json\n"
   ]
  },
  {
   "cell_type": "code",
   "execution_count": 2,
   "metadata": {},
   "outputs": [],
   "source": [
    "data = []\n",
    "with open('./cookbook_processed_20230917.jsonl', 'r') as f:\n",
    "    for line in f.readlines():\n",
    "        data.append(json.loads(line))\n",
    "\n"
   ]
  },
  {
   "cell_type": "code",
   "execution_count": 7,
   "metadata": {},
   "outputs": [
    {
     "data": {
      "text/plain": [
       "{'title': '正反逻辑，如何利用正反逻辑来玩狼人杀？',\n",
       " 'sys_prompt': '\\n                    你是一个文档总结机器人，你的任务是从一篇文档中总结可以提问的问题，要求提出的问题必须能在文章中找到对应的答案。返回结果以<问题，答案>对的形式呈现。\\n                    ===strategy content start===\\n                    {正反逻辑，如何利用正反逻辑来玩狼人杀？\\n\\n新手常犯的一个错误就是把“伪逻辑”当成“铁逻辑”。比如A查杀B，B使用自爆技能，那么A一定是个好人。不一定，因为A是查杀B的预言家，A也有可能是自己的狼队友查杀B狼队友，这样才能保住身份。相反，A悍跳预言家，从来不脱衣服。他给B送金水，结果B自爆，那么A一定是狼人。再比如：你是女巫，A和B都跳了预言家的身份，狼人C跳了女巫的身份然后站队A，所以你认为B是真预言家，A是假的。确定吗？不一定。这个只是正逻辑，当然还有一种反逻辑的情况存在，因为C是不是狼，和A或者B是预言家无关，C可以故意站在真预言家A的一边，让你这个真女巫站在狼人B的一边，他的目的就达到了。这一招常被称为“阴阳倒钩”。类似的例子还有很多。新手往往只有一层逻辑/正逻辑，没有反逻辑。比如A爆B，A是好人；另一种新手只是反逻辑，不是正逻辑。比如他总喜欢盘狼自刀(正逻辑就是晚上被刀的是好人)。这两个都是错的，一个高手要综合判断后再做决定。接下来说说多重逻辑。其实逻辑只有两层，正反。反逻辑又到了一个层次，叫做三重逻辑，其实就是正逻辑。比如上面说的“阴阳倒钩”玩多了，那么就会出现一个狼人C站队A，你会觉得A是预言家。狼人C故意站队A让你站错队(盘的反逻辑)。狼人可以反其道而行之，明目张胆的站在自己的狼队友A一边，打冲锋，这在思维层面上属于第三层，但从结果来看，又回归到新人知道的最简单。当然这种推理不是铁的逻辑，因为A和C的身份是独立事件。所以不管狼人杀人的逻辑是怎么叠加的，简化后有两层：正逻辑和反逻辑，看你信哪一层了。高手只所以说是高手，主要就取决于他能理解在场每一个玩家的思维水平，然后以更高的思维水平说话，让你站错队，投错票。}\\n                    ===strategy content end===\\n                    ',\n",
       " 'user_prompt': '\\n                    {从文章中总结可以提问的问题，要求提出的问题必须能在文章中找到对应的答案。返回结果以<问题，答案>对的形式呈现。}\\n                    ',\n",
       " 'response': {'id': 'chatcmpl-7zb8c087jPWAzDJNYoQR5BVc39DoY',\n",
       "  'object': 'chat.completion',\n",
       "  'created': 1694915122,\n",
       "  'model': 'gpt-3.5-turbo-0613',\n",
       "  'choices': [{'index': 0,\n",
       "    'message': {'role': 'assistant',\n",
       "     'content': '1. 什么是新手在狼人杀中常犯的一个错误？\\n答案：新手常犯的一个错误是把“伪逻辑”当成“铁逻辑”。\\n\\n2. 什么是正逻辑和反逻辑？\\n答案：逻辑只有两层，正逻辑和反逻辑。正逻辑是指按照常规的逻辑推理进行判断，而反逻辑是指以相反的方式进行推理。\\n\\n3. 为什么新手往往只有一层逻辑/正逻辑，没有反逻辑？\\n答案：新手在狼人杀中往往只有一层逻辑/正逻辑，没有反逻辑是因为他们缺乏经验和思考的深度。\\n\\n4. 什么是阴阳倒钩？\\n答案：阴阳倒钩是指狼人杀中一种玩法策略，狼人故意站在狼队友的对立方一边，让对方产生错误的判断。\\n\\n5. 什么是多重逻辑？\\n答案：多重逻辑其实就是正逻辑的另一种层次，即在正逻辑的基础上加入更多的推理和判断。\\n\\n6. 狼人杀中的逻辑有几层？\\n答案：狼人杀中的逻辑有两层，即正逻辑和反逻辑，但从结果来看，有时会回归到最简单的逻辑。\\n\\n7. 高手在狼人杀中为什么能够判断其他玩家的思维水平？\\n答案：高手在狼人杀中能够判断其他玩家的思维水平，是因为他们具备丰富的经验和思考能力，能够观察和分析其他人的言行举止来推断他们的思维水平。\\n\\n8. 高手在狼人杀中如何利用逻辑来达到自己的目的？\\n答案：高手在狼人杀中利用逻辑来达到自己的目的，通过理解在场每一个玩家的思维水平，以更高的思维水平言论，让其他玩家产生错误判断，从而让他们站错队、投错票。'},\n",
       "    'finish_reason': 'stop'}],\n",
       "  'usage': {'prompt_tokens': 1004,\n",
       "   'completion_tokens': 660,\n",
       "   'total_tokens': 1664}}}"
      ]
     },
     "execution_count": 7,
     "metadata": {},
     "output_type": "execute_result"
    }
   ],
   "source": [
    "data[3]"
   ]
  },
  {
   "cell_type": "code",
   "execution_count": 9,
   "metadata": {},
   "outputs": [],
   "source": [
    "import re\n",
    "\n",
    "def extract_qa(text):\n",
    "    pattern = re.compile(r'(\\d+\\.\\s(.*?))\\n答案：(.*?)(?=\\n\\n\\d+\\.|\\n?$)', re.DOTALL)\n",
    "    matches = pattern.findall(text)\n",
    "\n",
    "    # 将问题和答案对存储在一个列表中\n",
    "    qa_pairs = [{\"question\": match[1], \"answer\": match[2]} for match in matches]\n",
    "    return qa_pairs\n",
    "\n",
    "for d in data:\n",
    "    d['extract_qa'] = extract_qa(d['response']['choices'][0]['message']['content'])\n"
   ]
  },
  {
   "cell_type": "code",
   "execution_count": 14,
   "metadata": {},
   "outputs": [
    {
     "name": "stdout",
     "output_type": "stream",
     "text": [
      "965\n"
     ]
    }
   ],
   "source": [
    "cnt = 0 \n",
    "for d in data:\n",
    "    if len(d['extract_qa']) ==0:\n",
    "        cnt+=1\n",
    "print(cnt)\n"
   ]
  },
  {
   "cell_type": "code",
   "execution_count": null,
   "metadata": {},
   "outputs": [],
   "source": []
  },
  {
   "cell_type": "code",
   "execution_count": null,
   "metadata": {},
   "outputs": [],
   "source": []
  },
  {
   "cell_type": "code",
   "execution_count": null,
   "metadata": {},
   "outputs": [],
   "source": []
  },
  {
   "cell_type": "code",
   "execution_count": null,
   "metadata": {},
   "outputs": [],
   "source": []
  },
  {
   "cell_type": "code",
   "execution_count": null,
   "metadata": {},
   "outputs": [],
   "source": []
  }
 ],
 "metadata": {
  "kernelspec": {
   "display_name": "llm",
   "language": "python",
   "name": "python3"
  },
  "language_info": {
   "codemirror_mode": {
    "name": "ipython",
    "version": 3
   },
   "file_extension": ".py",
   "mimetype": "text/x-python",
   "name": "python",
   "nbconvert_exporter": "python",
   "pygments_lexer": "ipython3",
   "version": "3.10.12"
  },
  "orig_nbformat": 4
 },
 "nbformat": 4,
 "nbformat_minor": 2
}
